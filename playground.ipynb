{
 "cells": [
  {
   "cell_type": "code",
   "execution_count": 1,
   "metadata": {},
   "outputs": [
    {
     "data": {
      "text/plain": [
       "'c:\\\\Projects\\\\LHLSA thesis'"
      ]
     },
     "execution_count": 1,
     "metadata": {},
     "output_type": "execute_result"
    }
   ],
   "source": [
    "from models import StateAutoEncoder\n",
    "from train_sae import generate_dataset\n",
    "import os\n",
    "\n",
    "os.getcwd()"
   ]
  },
  {
   "cell_type": "code",
   "execution_count": 12,
   "metadata": {},
   "outputs": [],
   "source": [
    "dir_path = os.getcwd()\n",
    "model_save_dir = dir_path+\"/saved/sae\"\n",
    "checkpoint_path = dir_path+\"/checkpoints/sae/\"\n",
    "n_epochs = 100\n",
    "steps_per_epoch = 10000\n",
    "batch_size = 64\n",
    "\n",
    "dataset = generate_dataset('Taxi-v3', 200)"
   ]
  },
  {
   "cell_type": "code",
   "execution_count": 10,
   "metadata": {},
   "outputs": [],
   "source": [
    "# iter(dataset).next()"
   ]
  },
  {
   "cell_type": "code",
   "execution_count": 15,
   "metadata": {},
   "outputs": [],
   "source": [
    "train_dataset = dataset.shard(num_shards=2, index=0).shuffle(buffer_size=1024).repeat().batch(\n",
    "        batch_size, drop_remainder=True)\n",
    "eval_dataset = dataset.shard(num_shards=2, index=1).shuffle(buffer_size=1024).repeat().batch(\n",
    "        batch_size, drop_remainder=True)"
   ]
  },
  {
   "cell_type": "code",
   "execution_count": 16,
   "metadata": {},
   "outputs": [
    {
     "name": "stdout",
     "output_type": "stream",
     "text": [
      "Restoring from c:\\Projects\\LHLSA thesis/checkpoints/sae/ckpt\n"
     ]
    }
   ],
   "source": [
    "state_autoencoder = StateAutoEncoder(n_epochs, steps_per_epoch)\n",
    "state_autoencoder.use_checkpoints(checkpoint_path)"
   ]
  },
  {
   "cell_type": "code",
   "execution_count": 21,
   "metadata": {},
   "outputs": [
    {
     "name": "stdout",
     "output_type": "stream",
     "text": [
      "[[0. 1. 1. 0. 1. 0. 1. 0. 1. 0. 1. 0. 0. 1. 1. 0. 0. 1. 0. 1.]]\n",
      "[[0.5731484]]\n"
     ]
    }
   ],
   "source": [
    "encoding = state_autoencoder.encode([0.56])\n",
    "print(encoding)\n",
    "decoding = state_autoencoder.decode(encoding)\n",
    "print(decoding)"
   ]
  },
  {
   "cell_type": "code",
   "execution_count": null,
   "metadata": {},
   "outputs": [
    {
     "name": "stdout",
     "output_type": "stream",
     "text": [
      "Epoch 1/100\n",
      "10000/10000 [==============================] - 166s 17ms/step - loss: 0.0062 - accuracy: 0.0000e+00\n",
      "Epoch 2/100\n",
      " 6349/10000 [==================>...........] - ETA: 1:02 - loss: 0.0060 - accuracy: 0.0000e+00"
     ]
    }
   ],
   "source": [
    "state_autoencoder.compile()\n",
    "history = state_autoencoder.fit(train_dataset)\n",
    "state_autoencoder.save(args.savedir)"
   ]
  },
  {
   "cell_type": "code",
   "execution_count": null,
   "metadata": {},
   "outputs": [],
   "source": [
    "encoding = state_autoencoder.encode([0.56])\n",
    "print(encoding)\n",
    "decoding = state_autoencoder.decode(encoding)\n",
    "print(decoding)"
   ]
  }
 ],
 "metadata": {
  "kernelspec": {
   "display_name": "Python 3",
   "language": "python",
   "name": "python3"
  },
  "language_info": {
   "codemirror_mode": {
    "name": "ipython",
    "version": 3
   },
   "file_extension": ".py",
   "mimetype": "text/x-python",
   "name": "python",
   "nbconvert_exporter": "python",
   "pygments_lexer": "ipython3",
   "version": "3.8.5"
  }
 },
 "nbformat": 4,
 "nbformat_minor": 4
}
